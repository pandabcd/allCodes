{
 "cells": [
  {
   "cell_type": "code",
   "execution_count": 1,
   "metadata": {},
   "outputs": [],
   "source": [
    "import pandas as pd\n",
    "from enum import Enum\n",
    "from datetime import datetime, timedelta\n",
    "from IPython.display import display # Just for pretty display of dfs"
   ]
  },
  {
   "cell_type": "code",
   "execution_count": 2,
   "metadata": {},
   "outputs": [],
   "source": [
    "FIRST_RUN = False\n",
    "RUN_TODAY = False"
   ]
  },
  {
   "cell_type": "code",
   "execution_count": 3,
   "metadata": {},
   "outputs": [],
   "source": [
    "def create_new_field(field, first_value):\n",
    "    \"\"\"Creates\"\"\"\n",
    "    \n",
    "    today = datetime.now().date()\n",
    "    value = first_value\n",
    "    \n",
    "    df = pd.DataFrame({'Date' : [today], 'Value' : [first_value]})\n",
    "    df.to_csv(field + \".csv\")\n",
    "\n",
    "def get_new_value_from_user(field):\n",
    "    \"\"\"Simply asks and returns value for a particular field from user.\"\"\"\n",
    "    return 2\n",
    "    print \"Please enter a value for \" + field\n",
    "    val = input()\n",
    "#     Do type checking here\n",
    "    return val\n",
    "\n",
    "def add_new_value(field, value):\n",
    "    \"\"\"Adds a value(with today's date) to the field and writes to the relevant file.\"\"\"\n",
    "    today = datetime.now().date()\n",
    "    df = pd.read_csv(field + \".csv\", index_col=0)\n",
    "    \n",
    "    new_entry = pd.Series({'Date' : today, 'Value' : value})\n",
    "    df = df.append(new_entry, ignore_index=True)\n",
    "    \n",
    "    display(df.tail())\n",
    "    df.to_csv(field + \".csv\")\n",
    "\n",
    "\n",
    "\n",
    "def update_next_check(field):\n",
    "    df = pd.read_csv(\"Meta.csv\")\n",
    "    \n",
    "    current_check_date = df[df['Field']==field].iloc[0] ['Next Check']\n",
    "    update_frequency = df.loc[df['Field']==field, 'Check Frequency'].iloc[0]\n",
    "    \n",
    "    print update_frequency\n",
    "    \n",
    "    next_check = datetime.strptime(current_check_date, \"%Y-%m-%d\") + timedelta(days= update_frequency)\n",
    "    next_check = next_check.date()\n",
    "    \n",
    "    df.loc[ df['Field']==field, 'Next Check'] = next_check\n",
    "    \n",
    "    df.to_csv(\"Meta.csv\")    \n",
    "    "
   ]
  },
  {
   "cell_type": "code",
   "execution_count": 4,
   "metadata": {},
   "outputs": [],
   "source": [
    "def first_time_setup():\n",
    "    \"\"\"Setting up for the first time!\"\"\"\n",
    "    temp = datetime.now().date()\n",
    "\n",
    "    FIELD = [\"Football\", \"Strength_training\", \"Study\", \"Mobile_usage\", \"Screen_Unlock_times\"]\n",
    "    CHECK_FREQUENCY = [1, 1, 7, 7, 7] #In number of days\n",
    "    NEXT_CHECK = [ temp, temp, temp, temp, temp]\n",
    "\n",
    "    df = pd.DataFrame({'Field' : FIELD, 'Check Frequency' : CHECK_FREQUENCY, 'Next Check' : NEXT_CHECK})\n",
    "    df = df[['Field', 'Check Frequency', 'Next Check']]\n",
    "    df.to_csv('Meta.csv')\n",
    "    \n",
    "    for field in FIELD:\n",
    "        create_new_field(field, 0) \n",
    "    "
   ]
  },
  {
   "cell_type": "code",
   "execution_count": 5,
   "metadata": {},
   "outputs": [],
   "source": [
    "if FIRST_RUN:\n",
    "    first_time_setup()"
   ]
  },
  {
   "cell_type": "code",
   "execution_count": null,
   "metadata": {},
   "outputs": [],
   "source": []
  },
  {
   "cell_type": "code",
   "execution_count": 6,
   "metadata": {
    "scrolled": false
   },
   "outputs": [
    {
     "name": "stdout",
     "output_type": "stream",
     "text": [
      "Appending value\n"
     ]
    },
    {
     "data": {
      "text/html": [
       "<div>\n",
       "<style scoped>\n",
       "    .dataframe tbody tr th:only-of-type {\n",
       "        vertical-align: middle;\n",
       "    }\n",
       "\n",
       "    .dataframe tbody tr th {\n",
       "        vertical-align: top;\n",
       "    }\n",
       "\n",
       "    .dataframe thead th {\n",
       "        text-align: right;\n",
       "    }\n",
       "</style>\n",
       "<table border=\"1\" class=\"dataframe\">\n",
       "  <thead>\n",
       "    <tr style=\"text-align: right;\">\n",
       "      <th></th>\n",
       "      <th>Date</th>\n",
       "      <th>Value</th>\n",
       "    </tr>\n",
       "  </thead>\n",
       "  <tbody>\n",
       "    <tr>\n",
       "      <th>3</th>\n",
       "      <td>2019-03-01</td>\n",
       "      <td>2</td>\n",
       "    </tr>\n",
       "    <tr>\n",
       "      <th>4</th>\n",
       "      <td>2019-03-01</td>\n",
       "      <td>2</td>\n",
       "    </tr>\n",
       "    <tr>\n",
       "      <th>5</th>\n",
       "      <td>2019-03-01</td>\n",
       "      <td>2</td>\n",
       "    </tr>\n",
       "    <tr>\n",
       "      <th>6</th>\n",
       "      <td>2019-03-01</td>\n",
       "      <td>2</td>\n",
       "    </tr>\n",
       "    <tr>\n",
       "      <th>7</th>\n",
       "      <td>2019-03-01</td>\n",
       "      <td>2</td>\n",
       "    </tr>\n",
       "  </tbody>\n",
       "</table>\n",
       "</div>"
      ],
      "text/plain": [
       "         Date  Value\n",
       "3  2019-03-01      2\n",
       "4  2019-03-01      2\n",
       "5  2019-03-01      2\n",
       "6  2019-03-01      2\n",
       "7  2019-03-01      2"
      ]
     },
     "metadata": {},
     "output_type": "display_data"
    },
    {
     "name": "stdout",
     "output_type": "stream",
     "text": [
      "3\n"
     ]
    }
   ],
   "source": [
    "# Front End\n",
    "# Run this part daily once\n",
    "if not RUN_TODAY:\n",
    "    try:\n",
    "        df = pd.read_csv(\"Meta.csv\")\n",
    "        FIELD = list(df['Field'])\n",
    "\n",
    "        for i, field in enumerate(FIELD):\n",
    "            if i>0:\n",
    "                break\n",
    "\n",
    "            df_field = df.loc[ df['Field'] == field]\n",
    "\n",
    "            today = str(datetime.now().date())\n",
    "            next_check = df_field['Next Check'].iloc[0]\n",
    "            \n",
    "            next_check  = today\n",
    "            \n",
    "            if(next_check == today):\n",
    "                print \"Appending value\"\n",
    "                add_new_value(field, get_new_value_from_user(field))\n",
    "                update_next_check(field)\n",
    "\n",
    "    except Exception as e:\n",
    "        print \"Probably this is your first run!!! \"\n",
    "        print \"If not, there is some bug in code. Sorry man.\"\n",
    "        \n",
    "        print(e)\n"
   ]
  },
  {
   "cell_type": "code",
   "execution_count": 7,
   "metadata": {},
   "outputs": [],
   "source": [
    "import matplotlib.pyplot as plt"
   ]
  }
 ],
 "metadata": {
  "kernelspec": {
   "display_name": "Python 2",
   "language": "python",
   "name": "python2"
  },
  "language_info": {
   "codemirror_mode": {
    "name": "ipython",
    "version": 2
   },
   "file_extension": ".py",
   "mimetype": "text/x-python",
   "name": "python",
   "nbconvert_exporter": "python",
   "pygments_lexer": "ipython2",
   "version": "2.7.12"
  }
 },
 "nbformat": 4,
 "nbformat_minor": 2
}
