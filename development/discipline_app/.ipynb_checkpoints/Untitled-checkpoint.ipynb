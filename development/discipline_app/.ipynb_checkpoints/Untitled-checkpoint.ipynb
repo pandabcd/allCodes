{
 "cells": [
  {
   "cell_type": "code",
   "execution_count": 16,
   "metadata": {},
   "outputs": [],
   "source": [
    "from datetime import datetime"
   ]
  },
  {
   "cell_type": "code",
   "execution_count": 17,
   "metadata": {},
   "outputs": [
    {
     "name": "stdout",
     "output_type": "stream",
     "text": [
      "2019-03-04 03:44:10.575540\n"
     ]
    }
   ],
   "source": [
    "now = datetime.now()\n",
    "print now"
   ]
  },
  {
   "cell_type": "code",
   "execution_count": 7,
   "metadata": {},
   "outputs": [
    {
     "name": "stdout",
     "output_type": "stream",
     "text": [
      "Football,1\n",
      "Strength_training,1\n",
      "Study,1\n",
      "Mobile_usage,1\n",
      "Screen_Unlock_times,1\n",
      "\n"
     ]
    }
   ],
   "source": [
    "f_today = open(\"last_log.txt\", \"r\")\n",
    "x = (f_today.read())\n",
    "print x"
   ]
  },
  {
   "cell_type": "code",
   "execution_count": 21,
   "metadata": {},
   "outputs": [],
   "source": [
    "f_log = open(\"log.txt\", \"a\")\n",
    "f_log.write(str(now)+\"\\n\")\n",
    "f_log.write(x)\n",
    "f_log.write(\"\\n\")"
   ]
  }
 ],
 "metadata": {
  "kernelspec": {
   "display_name": "Python 2",
   "language": "python",
   "name": "python2"
  },
  "language_info": {
   "codemirror_mode": {
    "name": "ipython",
    "version": 2
   },
   "file_extension": ".py",
   "mimetype": "text/x-python",
   "name": "python",
   "nbconvert_exporter": "python",
   "pygments_lexer": "ipython2",
   "version": "2.7.12"
  }
 },
 "nbformat": 4,
 "nbformat_minor": 2
}
