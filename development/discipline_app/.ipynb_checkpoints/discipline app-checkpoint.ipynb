{
 "cells": [
  {
   "cell_type": "code",
   "execution_count": 1,
   "metadata": {},
   "outputs": [],
   "source": [
    "import pandas as pd\n",
    "from enum import Enum\n",
    "from datetime import datetime, timedelta\n",
    "from IPython.display import display # Just for pretty display of dfs\n",
    "from random import randint\n",
    "\n",
    "# Check for '#testing'"
   ]
  },
  {
   "cell_type": "code",
   "execution_count": 2,
   "metadata": {},
   "outputs": [],
   "source": [
    "FIRST_RUN = False\n",
    "RUN_TODAY = False"
   ]
  },
  {
   "cell_type": "code",
   "execution_count": 3,
   "metadata": {},
   "outputs": [],
   "source": [
    "def create_new_field(field, first_value):\n",
    "    \"\"\"Creates\"\"\"\n",
    "    \n",
    "    today = datetime.now().date()\n",
    "    value = first_value\n",
    "    \n",
    "    df = pd.DataFrame({'Date' : [today], 'Value' : [first_value]})\n",
    "    df.to_csv(field + \".csv\")\n",
    "\n",
    "def get_new_value_from_user(field):\n",
    "    \"\"\"Simply asks and returns value for a particular field from user.\"\"\"\n",
    "    return randint(0,10)   #testing\n",
    "\n",
    "    print \"Please enter a value for \" + field\n",
    "    val = input()\n",
    "#     Do type checking here\n",
    "    return val\n",
    "\n",
    "def add_new_value(field, value):\n",
    "    \"\"\"Adds a value(with today's date) to the field and writes to the relevant file.\"\"\"\n",
    "    today = datetime.now().date()\n",
    "    \n",
    "# testing\n",
    "    today = today + timedelta(randint(0,100))\n",
    "    \n",
    "    df = pd.read_csv(field + \".csv\", index_col=0)\n",
    "    \n",
    "    new_entry = pd.Series({'Date' : today, 'Value' : value})\n",
    "    df = df.append(new_entry, ignore_index=True)\n",
    "    \n",
    "    display(df.tail())\n",
    "    df.to_csv(field + \".csv\")\n",
    "\n",
    "\n",
    "\n",
    "def update_next_check(field):\n",
    "    df = pd.read_csv(\"Meta.csv\")\n",
    "    \n",
    "    current_check_date = df[df['Field']==field].iloc[0] ['Next Check']\n",
    "    update_frequency = df.loc[df['Field']==field, 'Check Frequency'].iloc[0]\n",
    "    \n",
    "    \n",
    "    next_check = datetime.strptime(current_check_date, \"%Y-%m-%d\") + timedelta(days= update_frequency)\n",
    "    next_check = next_check.date()\n",
    "    \n",
    "    df.loc[ df['Field']==field, 'Next Check'] = next_check\n",
    "    \n",
    "    df.to_csv(\"Meta.csv\", index=False)    \n",
    "    "
   ]
  },
  {
   "cell_type": "code",
   "execution_count": 4,
   "metadata": {},
   "outputs": [],
   "source": [
    "def first_time_setup():\n",
    "    \"\"\"Setting up for the first time!\"\"\"\n",
    "    temp = datetime.now().date()\n",
    "\n",
    "    FIELD = [\"Football\", \"Strength_training\", \"Study\", \"Mobile_usage\", \"Screen_Unlock_times\"]\n",
    "    CHECK_FREQUENCY = [1, 1, 7, 7, 7] #In number of days\n",
    "    NEXT_CHECK = [ temp, temp, temp, temp, temp]\n",
    "\n",
    "    df = pd.DataFrame({'Field' : FIELD, 'Check Frequency' : CHECK_FREQUENCY, 'Next Check' : NEXT_CHECK})\n",
    "    df = df[['Field', 'Check Frequency', 'Next Check']]\n",
    "    df.to_csv('Meta.csv')\n",
    "    \n",
    "    for field in FIELD:\n",
    "        create_new_field(field, 0) \n",
    "    "
   ]
  },
  {
   "cell_type": "code",
   "execution_count": 5,
   "metadata": {},
   "outputs": [],
   "source": [
    "if FIRST_RUN:\n",
    "    first_time_setup()"
   ]
  },
  {
   "cell_type": "code",
   "execution_count": 6,
   "metadata": {
    "scrolled": false
   },
   "outputs": [],
   "source": [
    "# Front End\n",
    "# Run this part daily once\n",
    "def daily_check():\n",
    "    \"\"\"This function runs daily to check for deadline and updates value in file after taking input from user.\"\"\"\n",
    "    if not RUN_TODAY:\n",
    "        try:\n",
    "            df = pd.read_csv(\"Meta.csv\")\n",
    "            FIELD = list(df['Field'])\n",
    "\n",
    "            for i, field in enumerate(FIELD):\n",
    "                if i>0:\n",
    "                    break\n",
    "\n",
    "                df_field = df.loc[ df['Field'] == field]\n",
    "\n",
    "                today = str(datetime.now().date())\n",
    "                next_check = df_field['Next Check'].iloc[0]\n",
    "\n",
    "                next_check  = today\n",
    "\n",
    "                if(next_check == today):\n",
    "                    print \"Appending value\"\n",
    "                    add_new_value(field, get_new_value_from_user(field))\n",
    "                    update_next_check(field)\n",
    "\n",
    "        except Exception as e:\n",
    "            print \"Probably this is your first run!!! \"\n",
    "            print \"If not, there is some bug in code. Sorry man.\"\n",
    "\n",
    "            print(e)\n"
   ]
  },
  {
   "cell_type": "code",
   "execution_count": 7,
   "metadata": {},
   "outputs": [
    {
     "name": "stdout",
     "output_type": "stream",
     "text": [
      "Appending value\n"
     ]
    },
    {
     "data": {
      "text/html": [
       "<div>\n",
       "<style scoped>\n",
       "    .dataframe tbody tr th:only-of-type {\n",
       "        vertical-align: middle;\n",
       "    }\n",
       "\n",
       "    .dataframe tbody tr th {\n",
       "        vertical-align: top;\n",
       "    }\n",
       "\n",
       "    .dataframe thead th {\n",
       "        text-align: right;\n",
       "    }\n",
       "</style>\n",
       "<table border=\"1\" class=\"dataframe\">\n",
       "  <thead>\n",
       "    <tr style=\"text-align: right;\">\n",
       "      <th></th>\n",
       "      <th>Date</th>\n",
       "      <th>Value</th>\n",
       "    </tr>\n",
       "  </thead>\n",
       "  <tbody>\n",
       "    <tr>\n",
       "      <th>7</th>\n",
       "      <td>2019-04-29</td>\n",
       "      <td>4</td>\n",
       "    </tr>\n",
       "    <tr>\n",
       "      <th>8</th>\n",
       "      <td>2019-05-15</td>\n",
       "      <td>3</td>\n",
       "    </tr>\n",
       "    <tr>\n",
       "      <th>9</th>\n",
       "      <td>2019-03-25</td>\n",
       "      <td>2</td>\n",
       "    </tr>\n",
       "    <tr>\n",
       "      <th>10</th>\n",
       "      <td>2019-06-09</td>\n",
       "      <td>0</td>\n",
       "    </tr>\n",
       "    <tr>\n",
       "      <th>11</th>\n",
       "      <td>2019-05-18</td>\n",
       "      <td>2</td>\n",
       "    </tr>\n",
       "  </tbody>\n",
       "</table>\n",
       "</div>"
      ],
      "text/plain": [
       "          Date  Value\n",
       "7   2019-04-29      4\n",
       "8   2019-05-15      3\n",
       "9   2019-03-25      2\n",
       "10  2019-06-09      0\n",
       "11  2019-05-18      2"
      ]
     },
     "metadata": {},
     "output_type": "display_data"
    }
   ],
   "source": [
    "daily_check()"
   ]
  },
  {
   "cell_type": "code",
   "execution_count": 47,
   "metadata": {},
   "outputs": [],
   "source": [
    "df = pd.read_csv(\"Football.csv\", index_col=0)\n",
    "df = df.sort_values(['Date'])"
   ]
  },
  {
   "cell_type": "code",
   "execution_count": 48,
   "metadata": {},
   "outputs": [],
   "source": [
    "dates = list(df['Date'])\n",
    "value = list(df['Value'])"
   ]
  },
  {
   "cell_type": "code",
   "execution_count": 49,
   "metadata": {},
   "outputs": [
    {
     "data": {
      "text/plain": [
       "12"
      ]
     },
     "execution_count": 49,
     "metadata": {},
     "output_type": "execute_result"
    }
   ],
   "source": [
    "len(dates)"
   ]
  },
  {
   "cell_type": "code",
   "execution_count": 50,
   "metadata": {},
   "outputs": [
    {
     "data": {
      "text/plain": [
       "['2019-03-01',\n",
       " '2019-03-10',\n",
       " '2019-03-16',\n",
       " '2019-03-25',\n",
       " '2019-03-25',\n",
       " '2019-04-29',\n",
       " '2019-05-02',\n",
       " '2019-05-15',\n",
       " '2019-05-18',\n",
       " '2019-05-27',\n",
       " '2019-06-05',\n",
       " '2019-06-09']"
      ]
     },
     "execution_count": 50,
     "metadata": {},
     "output_type": "execute_result"
    }
   ],
   "source": [
    "dates"
   ]
  },
  {
   "cell_type": "code",
   "execution_count": 51,
   "metadata": {},
   "outputs": [],
   "source": [
    "x = np.arange(2,10,2)"
   ]
  },
  {
   "cell_type": "code",
   "execution_count": 52,
   "metadata": {},
   "outputs": [
    {
     "data": {
      "text/plain": [
       "[<matplotlib.text.Text at 0x7f3f7c3c5290>,\n",
       " <matplotlib.text.Text at 0x7f3f7c6fd690>,\n",
       " <matplotlib.text.Text at 0x7f3f7cc56610>,\n",
       " <matplotlib.text.Text at 0x7f3f7c55e910>,\n",
       " <matplotlib.text.Text at 0x7f3f7c55eed0>,\n",
       " <matplotlib.text.Text at 0x7f3f7c9386d0>,\n",
       " <matplotlib.text.Text at 0x7f3f7c575d10>,\n",
       " <matplotlib.text.Text at 0x7f3f7c53cb10>,\n",
       " <matplotlib.text.Text at 0x7f3f7c53c790>,\n",
       " <matplotlib.text.Text at 0x7f3f7c53c490>,\n",
       " <matplotlib.text.Text at 0x7f3f7c49be50>,\n",
       " <matplotlib.text.Text at 0x7f3f7ca06990>]"
      ]
     },
     "execution_count": 52,
     "metadata": {},
     "output_type": "execute_result"
    }
   ],
   "source": [
    "import matplotlib.pyplot as plt\n",
    "%matplotlib gtk\n",
    "#The dates here are assumed to be in sorted order\n",
    "x = np.arange(1,len(dates)+1,1)\n",
    "fig, ax = plt.subplots(1,1) \n",
    "\n",
    "ax.plot(x, value)\n",
    "ax.label_outer()\n",
    "ax.set_xticks(x)\n",
    "ax.set_xticklabels(dates)"
   ]
  }
 ],
 "metadata": {
  "kernelspec": {
   "display_name": "Python 2",
   "language": "python",
   "name": "python2"
  },
  "language_info": {
   "codemirror_mode": {
    "name": "ipython",
    "version": 2
   },
   "file_extension": ".py",
   "mimetype": "text/x-python",
   "name": "python",
   "nbconvert_exporter": "python",
   "pygments_lexer": "ipython2",
   "version": "2.7.12"
  }
 },
 "nbformat": 4,
 "nbformat_minor": 2
}
